{
  "nbformat": 4,
  "nbformat_minor": 0,
  "metadata": {
    "colab": {
      "name": "Assignment2_VivianSun.ipynb",
      "provenance": [],
      "authorship_tag": "ABX9TyOZeNuQwhznKozAwbYaOw0N",
      "include_colab_link": true
    },
    "kernelspec": {
      "name": "python3",
      "display_name": "Python 3"
    },
    "language_info": {
      "name": "python"
    }
  },
  "cells": [
    {
      "cell_type": "markdown",
      "metadata": {
        "id": "view-in-github",
        "colab_type": "text"
      },
      "source": [
        "<a href=\"https://colab.research.google.com/github/viviansun2013/DualRL/blob/master/Assignment2_VivianSun.ipynb\" target=\"_parent\"><img src=\"https://colab.research.google.com/assets/colab-badge.svg\" alt=\"Open In Colab\"/></a>"
      ]
    },
    {
      "cell_type": "code",
      "execution_count": 1,
      "metadata": {
        "id": "nxSowv0l2EDb"
      },
      "outputs": [],
      "source": [
        "# Your imports\n",
        "from datetime import date\n",
        "from datetime import datetime\n",
        "import pandas as pd\n",
        "\n",
        "def months_interval(start_date, end_date):\n",
        "    #\n",
        "    # Your implementation here.\n",
        "    #\n",
        "\n",
        "    res = pd.date_range(start_date,end_date, freq='MS').strftime(\"%B\").tolist()\n",
        "    res = list(set(res))\n",
        "    return sorted(res, key=lambda m: datetime.strptime(m, \"%B\"))"
      ]
    },
    {
      "cell_type": "code",
      "source": [
        "from datetime import date\n",
        "\n",
        "import pytest\n",
        "\n",
        "#from assignment2 import months_interval\n",
        "\n",
        "\n",
        "def test_january_to_march():\n",
        "    january = date(2017, 1, 1)\n",
        "    march = date(2017, 3, 1)\n",
        "\n",
        "    months = months_interval(january, march)\n",
        "\n",
        "    assert(['January', 'February', 'March'] == months), months\n",
        "\n",
        "\n",
        "def test_december_to_january():\n",
        "    december = date(2017, 12, 1)\n",
        "    january = date(2018, 1, 1)\n",
        "\n",
        "    months = months_interval(december, january)\n",
        "\n",
        "    assert(['January', 'December'] == months), months\n",
        "\n",
        "\n",
        "def test_january_to_january():\n",
        "    january2017 = date(2017, 1, 1)\n",
        "    january2018 = date(2018, 1, 1)\n",
        "\n",
        "    months = months_interval(january2017, january2018)\n",
        "\n",
        "    assert(['January', 'February', 'March', 'April', 'May', 'June', 'July', 'August',\n",
        "    'September', 'October', 'November', 'December'] == months), months\n"
      ],
      "metadata": {
        "id": "Y1CrUcGc2IcU"
      },
      "execution_count": 2,
      "outputs": []
    },
    {
      "cell_type": "code",
      "source": [
        "test_january_to_march()"
      ],
      "metadata": {
        "id": "PZSfrfZz2jWO"
      },
      "execution_count": 3,
      "outputs": []
    },
    {
      "cell_type": "code",
      "source": [
        "test_december_to_january()"
      ],
      "metadata": {
        "id": "1v00rfUR26GZ"
      },
      "execution_count": 4,
      "outputs": []
    },
    {
      "cell_type": "code",
      "source": [
        "test_january_to_january()"
      ],
      "metadata": {
        "id": "LSY1CDHy26Q4"
      },
      "execution_count": 5,
      "outputs": []
    }
  ]
}